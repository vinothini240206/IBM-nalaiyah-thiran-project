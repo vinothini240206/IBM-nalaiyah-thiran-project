{
  "cells": [
    {
      "cell_type": "code",
      "execution_count": null,
      "id": "8bfb3cac",
      "metadata": {
        "id": "8bfb3cac"
      },
      "outputs": [],
      "source": [
        "import numpy as np\n",
        "list1 = [6,3,4,5,2] #1 dimentional array\n",
        "a  = np.array(list1)"
      ]
    },
    {
      "cell_type": "code",
      "execution_count": null,
      "id": "20e527ce",
      "metadata": {
        "colab": {
          "base_uri": "https://localhost:8080/"
        },
        "id": "20e527ce",
        "outputId": "28673e78-ce5c-4cef-f121-04078e0a7532"
      },
      "outputs": [
        {
          "output_type": "execute_result",
          "data": {
            "text/plain": [
              "array([6, 3, 4, 5, 2])"
            ]
          },
          "metadata": {},
          "execution_count": 3
        }
      ],
      "source": [
        "a"
      ]
    },
    {
      "cell_type": "code",
      "execution_count": null,
      "id": "e60bc5c7",
      "metadata": {
        "colab": {
          "base_uri": "https://localhost:8080/"
        },
        "id": "e60bc5c7",
        "outputId": "13ba7366-6747-40ab-a873-bdaf71340964"
      },
      "outputs": [
        {
          "output_type": "execute_result",
          "data": {
            "text/plain": [
              "numpy.ndarray"
            ]
          },
          "metadata": {},
          "execution_count": 4
        }
      ],
      "source": [
        "type(a)"
      ]
    },
    {
      "cell_type": "code",
      "execution_count": null,
      "id": "a008de26",
      "metadata": {
        "colab": {
          "base_uri": "https://localhost:8080/"
        },
        "id": "a008de26",
        "outputId": "36af118e-c284-442c-b29c-c97386a2c3ae"
      },
      "outputs": [
        {
          "output_type": "execute_result",
          "data": {
            "text/plain": [
              "(5,)"
            ]
          },
          "metadata": {},
          "execution_count": 5
        }
      ],
      "source": [
        "a.shape"
      ]
    },
    {
      "cell_type": "code",
      "execution_count": null,
      "id": "af55e7ff",
      "metadata": {
        "colab": {
          "base_uri": "https://localhost:8080/"
        },
        "id": "af55e7ff",
        "outputId": "b8ead385-7d2b-4e27-d2c2-2042b7f123d9"
      },
      "outputs": [
        {
          "output_type": "execute_result",
          "data": {
            "text/plain": [
              "2"
            ]
          },
          "metadata": {},
          "execution_count": 6
        }
      ],
      "source": [
        "a.min()"
      ]
    },
    {
      "cell_type": "code",
      "execution_count": null,
      "id": "3544edca",
      "metadata": {
        "colab": {
          "base_uri": "https://localhost:8080/"
        },
        "id": "3544edca",
        "outputId": "977fe1a6-e16b-4d3d-877b-fae6b8eb834e"
      },
      "outputs": [
        {
          "output_type": "execute_result",
          "data": {
            "text/plain": [
              "6"
            ]
          },
          "metadata": {},
          "execution_count": 7
        }
      ],
      "source": [
        "a.max()"
      ]
    },
    {
      "cell_type": "code",
      "execution_count": null,
      "id": "3b93f890",
      "metadata": {
        "colab": {
          "base_uri": "https://localhost:8080/"
        },
        "id": "3b93f890",
        "outputId": "4d674db9-214f-467e-c90d-a9786eec6329"
      },
      "outputs": [
        {
          "output_type": "execute_result",
          "data": {
            "text/plain": [
              "0"
            ]
          },
          "metadata": {},
          "execution_count": 8
        }
      ],
      "source": [
        "a.argmax()  #index of maximum value"
      ]
    },
    {
      "cell_type": "code",
      "execution_count": null,
      "id": "9e0c7631",
      "metadata": {
        "colab": {
          "base_uri": "https://localhost:8080/"
        },
        "id": "9e0c7631",
        "outputId": "9311394b-a170-4621-fff4-508e8ad6f5fa"
      },
      "outputs": [
        {
          "output_type": "execute_result",
          "data": {
            "text/plain": [
              "4"
            ]
          },
          "metadata": {},
          "execution_count": 9
        }
      ],
      "source": [
        "a.argmin()"
      ]
    },
    {
      "cell_type": "code",
      "execution_count": null,
      "id": "246e084e",
      "metadata": {
        "id": "246e084e"
      },
      "outputs": [],
      "source": [
        "list2 = [[8,9,8,0],[2,3,9,7]]\n",
        "b = np.array(list2)\n"
      ]
    },
    {
      "cell_type": "code",
      "execution_count": null,
      "id": "d9ab0c73",
      "metadata": {
        "colab": {
          "base_uri": "https://localhost:8080/"
        },
        "id": "d9ab0c73",
        "outputId": "9ba51e0a-72fd-4222-f871-90e2a31c03fb"
      },
      "outputs": [
        {
          "output_type": "execute_result",
          "data": {
            "text/plain": [
              "array([[8, 9, 8, 0],\n",
              "       [2, 3, 9, 7]])"
            ]
          },
          "metadata": {},
          "execution_count": 11
        }
      ],
      "source": [
        "b     #2 dimentinal array"
      ]
    },
    {
      "cell_type": "code",
      "execution_count": null,
      "id": "0da3cfe7",
      "metadata": {
        "colab": {
          "base_uri": "https://localhost:8080/"
        },
        "id": "0da3cfe7",
        "outputId": "77794181-54ac-4beb-9b72-773eb2715f82"
      },
      "outputs": [
        {
          "output_type": "execute_result",
          "data": {
            "text/plain": [
              "1"
            ]
          },
          "metadata": {},
          "execution_count": 12
        }
      ],
      "source": [
        "b.argmax()"
      ]
    },
    {
      "cell_type": "code",
      "execution_count": null,
      "id": "e29264ae",
      "metadata": {
        "colab": {
          "base_uri": "https://localhost:8080/"
        },
        "id": "e29264ae",
        "outputId": "91820277-1076-4bcb-ebba-25e6c10638b0"
      },
      "outputs": [
        {
          "output_type": "execute_result",
          "data": {
            "text/plain": [
              "2"
            ]
          },
          "metadata": {},
          "execution_count": 13
        }
      ],
      "source": [
        "b.ndim"
      ]
    },
    {
      "cell_type": "code",
      "execution_count": null,
      "id": "78b280ee",
      "metadata": {
        "colab": {
          "base_uri": "https://localhost:8080/"
        },
        "id": "78b280ee",
        "outputId": "8ad9cb56-a65f-412f-f863-ea11d446f8f7"
      },
      "outputs": [
        {
          "output_type": "execute_result",
          "data": {
            "text/plain": [
              "1"
            ]
          },
          "metadata": {},
          "execution_count": 14
        }
      ],
      "source": [
        "a.ndim"
      ]
    },
    {
      "cell_type": "code",
      "execution_count": null,
      "id": "6cc25c32",
      "metadata": {
        "id": "6cc25c32"
      },
      "outputs": [],
      "source": [
        "list3 = [[5,6,7,8],[5,7,3,4],[1,3,4,5]]\n",
        "c = np.array(list3)"
      ]
    },
    {
      "cell_type": "code",
      "execution_count": null,
      "id": "a43143b9",
      "metadata": {
        "colab": {
          "base_uri": "https://localhost:8080/"
        },
        "id": "a43143b9",
        "outputId": "f58ba42a-421e-49bb-8043-63dcef6f7a4e"
      },
      "outputs": [
        {
          "output_type": "execute_result",
          "data": {
            "text/plain": [
              "array([[ 1,  2,  3,  4],\n",
              "       [ 5,  6,  7,  8],\n",
              "       [ 9, 10, 11, 12]])"
            ]
          },
          "metadata": {},
          "execution_count": 16
        }
      ],
      "source": [
        "c"
      ]
    },
    {
      "cell_type": "code",
      "execution_count": null,
      "id": "fb99bb6b",
      "metadata": {
        "colab": {
          "base_uri": "https://localhost:8080/"
        },
        "id": "fb99bb6b",
        "outputId": "c17f41cc-8cbc-4567-a2fc-4563a139f50c"
      },
      "outputs": [
        {
          "output_type": "execute_result",
          "data": {
            "text/plain": [
              "2"
            ]
          },
          "metadata": {},
          "execution_count": 17
        }
      ],
      "source": [
        "c.ndim"
      ]
    },
    {
      "cell_type": "code",
      "execution_count": null,
      "id": "29a66b73",
      "metadata": {
        "colab": {
          "base_uri": "https://localhost:8080/"
        },
        "id": "29a66b73",
        "outputId": "abbb6cd9-ec6b-4800-9257-20bd113924fa"
      },
      "outputs": [
        {
          "output_type": "execute_result",
          "data": {
            "text/plain": [
              "(3, 4)"
            ]
          },
          "metadata": {},
          "execution_count": 18
        }
      ],
      "source": [
        "c.shape"
      ]
    },
    {
      "cell_type": "markdown",
      "id": "bf861b63",
      "metadata": {
        "id": "bf861b63"
      },
      "source": [
        "# indexing and slicing?"
      ]
    },
    {
      "cell_type": "code",
      "execution_count": null,
      "id": "ece1e2f8",
      "metadata": {
        "colab": {
          "base_uri": "https://localhost:8080/"
        },
        "id": "ece1e2f8",
        "outputId": "3ba39371-7773-4a3c-9c58-e4839567afe1"
      },
      "outputs": [
        {
          "output_type": "execute_result",
          "data": {
            "text/plain": [
              "4"
            ]
          },
          "metadata": {},
          "execution_count": 19
        }
      ],
      "source": [
        "a[2] #indexing"
      ]
    },
    {
      "cell_type": "code",
      "execution_count": null,
      "id": "badbc59b",
      "metadata": {
        "colab": {
          "base_uri": "https://localhost:8080/"
        },
        "id": "badbc59b",
        "outputId": "3bad68b2-356d-4d65-add8-19a17d047ed0"
      },
      "outputs": [
        {
          "output_type": "execute_result",
          "data": {
            "text/plain": [
              "array([2, 3, 9, 7])"
            ]
          },
          "metadata": {},
          "execution_count": 20
        }
      ],
      "source": [
        "b[1]"
      ]
    },
    {
      "cell_type": "code",
      "execution_count": null,
      "id": "68ffc036",
      "metadata": {
        "colab": {
          "base_uri": "https://localhost:8080/"
        },
        "id": "68ffc036",
        "outputId": "1534836a-862b-4e28-e5a7-026315616a42"
      },
      "outputs": [
        {
          "output_type": "execute_result",
          "data": {
            "text/plain": [
              "array([ 9, 10, 11, 12])"
            ]
          },
          "metadata": {},
          "execution_count": 21
        }
      ],
      "source": [
        "c[2]"
      ]
    },
    {
      "cell_type": "code",
      "execution_count": null,
      "id": "0c289f1b",
      "metadata": {
        "colab": {
          "base_uri": "https://localhost:8080/"
        },
        "id": "0c289f1b",
        "outputId": "ca1b36cc-372a-45a7-adfb-5c1997abb81f"
      },
      "outputs": [
        {
          "output_type": "execute_result",
          "data": {
            "text/plain": [
              "array([[ 2,  3],\n",
              "       [ 6,  7],\n",
              "       [10, 11]])"
            ]
          },
          "metadata": {},
          "execution_count": 22
        }
      ],
      "source": [
        "c[:,1:3] #slicing , rows, columns"
      ]
    },
    {
      "cell_type": "markdown",
      "id": "c032250b",
      "metadata": {
        "id": "c032250b"
      },
      "source": [
        "## functions"
      ]
    },
    {
      "cell_type": "code",
      "execution_count": null,
      "id": "1a78a21e",
      "metadata": {
        "colab": {
          "base_uri": "https://localhost:8080/"
        },
        "id": "1a78a21e",
        "outputId": "93e2804b-837a-4c50-b94b-8093dc0e12fa"
      },
      "outputs": [
        {
          "output_type": "execute_result",
          "data": {
            "text/plain": [
              "array([0., 0., 0., 0., 0., 0., 0., 0., 0., 0.])"
            ]
          },
          "metadata": {},
          "execution_count": 23
        }
      ],
      "source": [
        "np.zeros(10)"
      ]
    },
    {
      "cell_type": "code",
      "execution_count": null,
      "id": "5cfe6584",
      "metadata": {
        "colab": {
          "base_uri": "https://localhost:8080/"
        },
        "id": "5cfe6584",
        "outputId": "98ba1029-7827-42ea-dbff-85a706fd7050"
      },
      "outputs": [
        {
          "output_type": "execute_result",
          "data": {
            "text/plain": [
              "array([1., 1., 1., 1., 1.])"
            ]
          },
          "metadata": {},
          "execution_count": 24
        }
      ],
      "source": [
        "np.ones(5)"
      ]
    },
    {
      "cell_type": "code",
      "execution_count": null,
      "id": "b1e08a5e",
      "metadata": {
        "colab": {
          "base_uri": "https://localhost:8080/"
        },
        "id": "b1e08a5e",
        "outputId": "b043a089-d65d-4607-dede-2fa96512a467"
      },
      "outputs": [
        {
          "output_type": "execute_result",
          "data": {
            "text/plain": [
              "array([6., 6., 6., 6., 6.])"
            ]
          },
          "metadata": {},
          "execution_count": 25
        }
      ],
      "source": [
        "np.ones(5)*6"
      ]
    },
    {
      "cell_type": "code",
      "execution_count": null,
      "id": "ca6f59b7",
      "metadata": {
        "colab": {
          "base_uri": "https://localhost:8080/"
        },
        "id": "ca6f59b7",
        "outputId": "b64ba935-8e48-4d8f-fee4-d591c1bd6ffd"
      },
      "outputs": [
        {
          "output_type": "execute_result",
          "data": {
            "text/plain": [
              "array([1, 3, 5, 7, 9])"
            ]
          },
          "metadata": {},
          "execution_count": 26
        }
      ],
      "source": [
        "np.arange(1, 11, 2)"
      ]
    },
    {
      "cell_type": "code",
      "execution_count": null,
      "id": "618a5202",
      "metadata": {
        "colab": {
          "base_uri": "https://localhost:8080/"
        },
        "id": "618a5202",
        "outputId": "58baba15-e4c9-4ee7-a28c-f9ac329388ca"
      },
      "outputs": [
        {
          "output_type": "execute_result",
          "data": {
            "text/plain": [
              "array([ 0.        ,  0.52631579,  1.05263158,  1.57894737,  2.10526316,\n",
              "        2.63157895,  3.15789474,  3.68421053,  4.21052632,  4.73684211,\n",
              "        5.26315789,  5.78947368,  6.31578947,  6.84210526,  7.36842105,\n",
              "        7.89473684,  8.42105263,  8.94736842,  9.47368421, 10.        ])"
            ]
          },
          "metadata": {},
          "execution_count": 27
        }
      ],
      "source": [
        "np.linspace(0,10,20) #linearly spaced values"
      ]
    },
    {
      "cell_type": "code",
      "execution_count": null,
      "id": "6602a4c3",
      "metadata": {
        "colab": {
          "base_uri": "https://localhost:8080/"
        },
        "id": "6602a4c3",
        "outputId": "50c77c1b-2ef9-4779-8749-fb034a2fe018"
      },
      "outputs": [
        {
          "output_type": "execute_result",
          "data": {
            "text/plain": [
              "array([0.37073492, 0.73679258, 0.6758592 , 0.21003229, 0.93902071,\n",
              "       0.52552425, 0.30603684, 0.62842117, 0.64512268, 0.88023924])"
            ]
          },
          "metadata": {},
          "execution_count": 28
        }
      ],
      "source": [
        "np.random.rand(10) #0 and 1"
      ]
    },
    {
      "cell_type": "code",
      "execution_count": null,
      "id": "35751efd",
      "metadata": {
        "id": "35751efd"
      },
      "outputs": [],
      "source": [
        "b = np.random.randint(1,100,24)"
      ]
    },
    {
      "cell_type": "code",
      "execution_count": null,
      "id": "8795a95d",
      "metadata": {
        "colab": {
          "base_uri": "https://localhost:8080/"
        },
        "id": "8795a95d",
        "outputId": "7307c5f7-e817-4a53-9e55-31919121f21a"
      },
      "outputs": [
        {
          "output_type": "execute_result",
          "data": {
            "text/plain": [
              "array([81, 21, 62,  6, 49, 70, 62,  5, 93, 97, 82, 87, 15, 22, 26, 22,  8,\n",
              "       73, 12, 70, 77, 85,  9, 79])"
            ]
          },
          "metadata": {},
          "execution_count": 30
        }
      ],
      "source": [
        "b"
      ]
    },
    {
      "cell_type": "code",
      "execution_count": null,
      "id": "31512ca9",
      "metadata": {
        "colab": {
          "base_uri": "https://localhost:8080/"
        },
        "id": "31512ca9",
        "outputId": "5f78f4a3-c31b-498a-9501-f4e8260b3477"
      },
      "outputs": [
        {
          "output_type": "execute_result",
          "data": {
            "text/plain": [
              "array([ 5,  7,  7,  9, 11, 19, 21, 22, 27, 30, 32, 35, 37, 39, 51, 52, 65,\n",
              "       66, 66, 69, 74, 90, 91, 98])"
            ]
          },
          "metadata": {},
          "execution_count": 31
        }
      ],
      "source": [
        "np.sort(np.random.randint(1,100,24))"
      ]
    },
    {
      "cell_type": "code",
      "execution_count": null,
      "id": "5a7fa1c3",
      "metadata": {
        "colab": {
          "base_uri": "https://localhost:8080/"
        },
        "id": "5a7fa1c3",
        "outputId": "750cd6c1-b8d8-4b11-cf52-ef2ac95cc708"
      },
      "outputs": [
        {
          "output_type": "execute_result",
          "data": {
            "text/plain": [
              "array([[81, 21, 62,  6],\n",
              "       [49, 70, 62,  5],\n",
              "       [93, 97, 82, 87],\n",
              "       [15, 22, 26, 22],\n",
              "       [ 8, 73, 12, 70],\n",
              "       [77, 85,  9, 79]])"
            ]
          },
          "metadata": {},
          "execution_count": 32
        }
      ],
      "source": [
        "b.reshape(6,4)"
      ]
    }
  ],
  "metadata": {
    "kernelspec": {
      "display_name": "Python 3 (ipykernel)",
      "language": "python",
      "name": "python3"
    },
    "language_info": {
      "codemirror_mode": {
        "name": "ipython",
        "version": 3
      },
      "file_extension": ".py",
      "mimetype": "text/x-python",
      "name": "python",
      "nbconvert_exporter": "python",
      "pygments_lexer": "ipython3",
      "version": "3.9.12"
    },
    "colab": {
      "provenance": []
    }
  },
  "nbformat": 4,
  "nbformat_minor": 5
}