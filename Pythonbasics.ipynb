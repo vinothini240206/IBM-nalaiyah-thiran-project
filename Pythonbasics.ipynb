{
  "cells": [
    {
      "cell_type": "code",
      "execution_count": 1,
      "id": "5c9b5ea3",
      "metadata": {
        "id": "5c9b5ea3"
      },
      "outputs": [],
      "source": [
        "# comments"
      ]
    },
    {
      "cell_type": "markdown",
      "id": "0dd4f0fd",
      "metadata": {
        "id": "0dd4f0fd"
      },
      "source": [
        "# variable "
      ]
    },
    {
      "cell_type": "code",
      "execution_count": 2,
      "id": "ed8896a2",
      "metadata": {
        "id": "ed8896a2"
      },
      "outputs": [],
      "source": [
        "a = 10 #creatring a variable and store the value"
      ]
    },
    {
      "cell_type": "code",
      "execution_count": 3,
      "id": "0d16705f",
      "metadata": {
        "colab": {
          "base_uri": "https://localhost:8080/"
        },
        "id": "0d16705f",
        "outputId": "0eb8ea56-2b9b-4b5b-cd48-ec6e09bcc8c0"
      },
      "outputs": [
        {
          "output_type": "execute_result",
          "data": {
            "text/plain": [
              "10"
            ]
          },
          "metadata": {},
          "execution_count": 3
        }
      ],
      "source": [
        "a"
      ]
    },
    {
      "cell_type": "code",
      "execution_count": 4,
      "id": "afd59f62",
      "metadata": {
        "colab": {
          "base_uri": "https://localhost:8080/"
        },
        "id": "afd59f62",
        "outputId": "2f0e348d-d210-40e1-b0ea-f2af733176c8"
      },
      "outputs": [
        {
          "output_type": "stream",
          "name": "stdout",
          "text": [
            "10\n"
          ]
        }
      ],
      "source": [
        "print(a) #using print function to see the value stored in the variable"
      ]
    },
    {
      "cell_type": "code",
      "execution_count": 5,
      "id": "66f7d68a",
      "metadata": {
        "id": "66f7d68a"
      },
      "outputs": [],
      "source": [
        "b = 12.5"
      ]
    },
    {
      "cell_type": "code",
      "execution_count": 6,
      "id": "f1a09755",
      "metadata": {
        "colab": {
          "base_uri": "https://localhost:8080/"
        },
        "id": "f1a09755",
        "outputId": "acaddfab-b516-42f9-e5d6-48d0dc073863"
      },
      "outputs": [
        {
          "output_type": "execute_result",
          "data": {
            "text/plain": [
              "12.5"
            ]
          },
          "metadata": {},
          "execution_count": 6
        }
      ],
      "source": [
        "b"
      ]
    },
    {
      "cell_type": "markdown",
      "id": "180ec25f",
      "metadata": {
        "id": "180ec25f"
      },
      "source": [
        "# literals"
      ]
    },
    {
      "cell_type": "code",
      "execution_count": 7,
      "id": "4cd28c47",
      "metadata": {
        "id": "4cd28c47"
      },
      "outputs": [],
      "source": [
        "a = 20 # storing interger value in a literal"
      ]
    },
    {
      "cell_type": "code",
      "execution_count": 8,
      "id": "a2f77773",
      "metadata": {
        "colab": {
          "base_uri": "https://localhost:8080/"
        },
        "id": "a2f77773",
        "outputId": "f14c7093-4bfb-4a20-e41a-9ba23c0ff223"
      },
      "outputs": [
        {
          "output_type": "execute_result",
          "data": {
            "text/plain": [
              "20"
            ]
          },
          "metadata": {},
          "execution_count": 8
        }
      ],
      "source": [
        "a"
      ]
    },
    {
      "cell_type": "code",
      "execution_count": 9,
      "id": "e55eb9a2",
      "metadata": {
        "colab": {
          "base_uri": "https://localhost:8080/"
        },
        "id": "e55eb9a2",
        "outputId": "bc7574b5-611b-4f04-b264-b1c5708af03e"
      },
      "outputs": [
        {
          "output_type": "execute_result",
          "data": {
            "text/plain": [
              "int"
            ]
          },
          "metadata": {},
          "execution_count": 9
        }
      ],
      "source": [
        "type(a) #finding literal type using type() function"
      ]
    },
    {
      "cell_type": "code",
      "execution_count": 10,
      "id": "750a7b52",
      "metadata": {
        "id": "750a7b52"
      },
      "outputs": [],
      "source": [
        "b = 5+10j"
      ]
    },
    {
      "cell_type": "code",
      "execution_count": 11,
      "id": "aebaa7e1",
      "metadata": {
        "colab": {
          "base_uri": "https://localhost:8080/"
        },
        "id": "aebaa7e1",
        "outputId": "cfef4c2f-36d6-4014-8c6e-f69265119107"
      },
      "outputs": [
        {
          "output_type": "execute_result",
          "data": {
            "text/plain": [
              "(5+10j)"
            ]
          },
          "metadata": {},
          "execution_count": 11
        }
      ],
      "source": [
        "b"
      ]
    },
    {
      "cell_type": "code",
      "execution_count": 12,
      "id": "02f357c7",
      "metadata": {
        "colab": {
          "base_uri": "https://localhost:8080/"
        },
        "id": "02f357c7",
        "outputId": "8c1b297e-7b67-4631-cb2e-3109b7f1b0ce"
      },
      "outputs": [
        {
          "output_type": "execute_result",
          "data": {
            "text/plain": [
              "complex"
            ]
          },
          "metadata": {},
          "execution_count": 12
        }
      ],
      "source": [
        "type(b)"
      ]
    },
    {
      "cell_type": "code",
      "execution_count": 13,
      "id": "5ed28890",
      "metadata": {
        "id": "5ed28890"
      },
      "outputs": [],
      "source": [
        "c = 'python'"
      ]
    },
    {
      "cell_type": "code",
      "execution_count": 14,
      "id": "507ba2ce",
      "metadata": {
        "colab": {
          "base_uri": "https://localhost:8080/",
          "height": 36
        },
        "id": "507ba2ce",
        "outputId": "0b36156e-7024-4dca-ea55-8ad34184f77a"
      },
      "outputs": [
        {
          "output_type": "execute_result",
          "data": {
            "text/plain": [
              "'python'"
            ],
            "application/vnd.google.colaboratory.intrinsic+json": {
              "type": "string"
            }
          },
          "metadata": {},
          "execution_count": 14
        }
      ],
      "source": [
        "c"
      ]
    },
    {
      "cell_type": "code",
      "execution_count": 15,
      "id": "f8948d89",
      "metadata": {
        "colab": {
          "base_uri": "https://localhost:8080/"
        },
        "id": "f8948d89",
        "outputId": "ddf0988e-915f-4b84-abb5-4c2aecc3391a"
      },
      "outputs": [
        {
          "output_type": "execute_result",
          "data": {
            "text/plain": [
              "str"
            ]
          },
          "metadata": {},
          "execution_count": 15
        }
      ],
      "source": [
        "type(c)"
      ]
    },
    {
      "cell_type": "code",
      "execution_count": 16,
      "id": "259de84c",
      "metadata": {
        "id": "259de84c"
      },
      "outputs": [],
      "source": [
        "d = True"
      ]
    },
    {
      "cell_type": "code",
      "execution_count": 17,
      "id": "303e68cd",
      "metadata": {
        "colab": {
          "base_uri": "https://localhost:8080/"
        },
        "id": "303e68cd",
        "outputId": "08473a7e-c5e4-446b-a191-4e9b94438790"
      },
      "outputs": [
        {
          "output_type": "execute_result",
          "data": {
            "text/plain": [
              "True"
            ]
          },
          "metadata": {},
          "execution_count": 17
        }
      ],
      "source": [
        "d"
      ]
    },
    {
      "cell_type": "code",
      "execution_count": 18,
      "id": "552cde46",
      "metadata": {
        "colab": {
          "base_uri": "https://localhost:8080/"
        },
        "id": "552cde46",
        "outputId": "e501ec25-c84b-4f4a-bf01-900dd23facdf"
      },
      "outputs": [
        {
          "output_type": "execute_result",
          "data": {
            "text/plain": [
              "bool"
            ]
          },
          "metadata": {},
          "execution_count": 18
        }
      ],
      "source": [
        "type(d)"
      ]
    },
    {
      "cell_type": "markdown",
      "id": "1e9bbc00",
      "metadata": {
        "id": "1e9bbc00"
      },
      "source": [
        "# identifiers"
      ]
    },
    {
      "cell_type": "code",
      "execution_count": 19,
      "id": "41a6af96",
      "metadata": {
        "id": "41a6af96"
      },
      "outputs": [],
      "source": [
        "ex_number = 50"
      ]
    },
    {
      "cell_type": "code",
      "execution_count": 20,
      "id": "d271be7f",
      "metadata": {
        "colab": {
          "base_uri": "https://localhost:8080/"
        },
        "id": "d271be7f",
        "outputId": "04cffdc1-63b2-4405-bf2e-881a8f4a0bca"
      },
      "outputs": [
        {
          "output_type": "execute_result",
          "data": {
            "text/plain": [
              "50"
            ]
          },
          "metadata": {},
          "execution_count": 20
        }
      ],
      "source": [
        "ex_number"
      ]
    },
    {
      "cell_type": "code",
      "execution_count": 21,
      "id": "b872fb3f",
      "metadata": {
        "id": "b872fb3f"
      },
      "outputs": [],
      "source": [
        "Ex_number = 45"
      ]
    },
    {
      "cell_type": "code",
      "execution_count": 22,
      "id": "93cc601b",
      "metadata": {
        "colab": {
          "base_uri": "https://localhost:8080/"
        },
        "id": "93cc601b",
        "outputId": "f3f09cb1-d414-4941-c382-003775b4408b"
      },
      "outputs": [
        {
          "output_type": "execute_result",
          "data": {
            "text/plain": [
              "45"
            ]
          },
          "metadata": {},
          "execution_count": 22
        }
      ],
      "source": [
        "Ex_number"
      ]
    },
    {
      "cell_type": "code",
      "execution_count": 23,
      "id": "16497d8c",
      "metadata": {
        "colab": {
          "base_uri": "https://localhost:8080/"
        },
        "id": "16497d8c",
        "outputId": "557f9a12-48a1-46e9-9ea8-2880a797ccc7"
      },
      "outputs": [
        {
          "output_type": "execute_result",
          "data": {
            "text/plain": [
              "50"
            ]
          },
          "metadata": {},
          "execution_count": 23
        }
      ],
      "source": [
        "ex_number"
      ]
    },
    {
      "cell_type": "code",
      "execution_count": 24,
      "id": "887be29c",
      "metadata": {
        "colab": {
          "base_uri": "https://localhost:8080/",
          "height": 130
        },
        "id": "887be29c",
        "outputId": "0def1ba1-174c-4a2f-d924-6b8633d2e74e"
      },
      "outputs": [
        {
          "output_type": "error",
          "ename": "SyntaxError",
          "evalue": "ignored",
          "traceback": [
            "\u001b[0;36m  File \u001b[0;32m\"<ipython-input-24-bb71df21e04c>\"\u001b[0;36m, line \u001b[0;32m1\u001b[0m\n\u001b[0;31m    20number = 20\u001b[0m\n\u001b[0m           ^\u001b[0m\n\u001b[0;31mSyntaxError\u001b[0m\u001b[0;31m:\u001b[0m invalid syntax\n"
          ]
        }
      ],
      "source": [
        "12num = 20 # should not start with number"
      ]
    },
    {
      "cell_type": "code",
      "execution_count": null,
      "id": "a33cc8fc",
      "metadata": {
        "id": "a33cc8fc"
      },
      "outputs": [],
      "source": [
        "ex number = 10"
      ]
    },
    {
      "cell_type": "markdown",
      "id": "bc76f5d7",
      "metadata": {
        "id": "bc76f5d7"
      },
      "source": [
        "# keywords"
      ]
    },
    {
      "cell_type": "code",
      "execution_count": 25,
      "id": "5eab327c",
      "metadata": {
        "id": "5eab327c"
      },
      "outputs": [],
      "source": [
        "import keyword"
      ]
    },
    {
      "cell_type": "code",
      "execution_count": 26,
      "id": "b88651c1",
      "metadata": {
        "colab": {
          "base_uri": "https://localhost:8080/"
        },
        "id": "b88651c1",
        "outputId": "373d31a1-21b9-49b8-a9bf-8fd1bfde96f3"
      },
      "outputs": [
        {
          "output_type": "execute_result",
          "data": {
            "text/plain": [
              "['False',\n",
              " 'None',\n",
              " 'True',\n",
              " 'and',\n",
              " 'as',\n",
              " 'assert',\n",
              " 'async',\n",
              " 'await',\n",
              " 'break',\n",
              " 'class',\n",
              " 'continue',\n",
              " 'def',\n",
              " 'del',\n",
              " 'elif',\n",
              " 'else',\n",
              " 'except',\n",
              " 'finally',\n",
              " 'for',\n",
              " 'from',\n",
              " 'global',\n",
              " 'if',\n",
              " 'import',\n",
              " 'in',\n",
              " 'is',\n",
              " 'lambda',\n",
              " 'nonlocal',\n",
              " 'not',\n",
              " 'or',\n",
              " 'pass',\n",
              " 'raise',\n",
              " 'return',\n",
              " 'try',\n",
              " 'while',\n",
              " 'with',\n",
              " 'yield']"
            ]
          },
          "metadata": {},
          "execution_count": 26
        }
      ],
      "source": [
        "keyword.kwlist"
      ]
    },
    {
      "cell_type": "markdown",
      "id": "4c8deee2",
      "metadata": {
        "id": "4c8deee2"
      },
      "source": [
        "# operators"
      ]
    },
    {
      "cell_type": "markdown",
      "id": "be2a81f4",
      "metadata": {
        "id": "be2a81f4"
      },
      "source": [
        "## arithmetic operator"
      ]
    },
    {
      "cell_type": "code",
      "execution_count": null,
      "id": "d325c5ac",
      "metadata": {
        "id": "d325c5ac"
      },
      "outputs": [],
      "source": [
        "# +,-,*,/,%,//,**"
      ]
    },
    {
      "cell_type": "code",
      "execution_count": null,
      "id": "0e0038ee",
      "metadata": {
        "id": "0e0038ee"
      },
      "outputs": [],
      "source": [
        "a = 10\n",
        "b = 25\n",
        "a%b"
      ]
    },
    {
      "cell_type": "code",
      "execution_count": null,
      "id": "781a20ed",
      "metadata": {
        "id": "781a20ed"
      },
      "outputs": [],
      "source": [
        "c"
      ]
    },
    {
      "cell_type": "markdown",
      "id": "06a06c3a",
      "metadata": {
        "id": "06a06c3a"
      },
      "source": [
        "# comparision operators"
      ]
    },
    {
      "cell_type": "code",
      "execution_count": 27,
      "id": "72c3462e",
      "metadata": {
        "id": "72c3462e"
      },
      "outputs": [],
      "source": [
        "#<,>,<=,>=,!,!="
      ]
    },
    {
      "cell_type": "code",
      "execution_count": 28,
      "id": "086187bb",
      "metadata": {
        "colab": {
          "base_uri": "https://localhost:8080/",
          "height": 165
        },
        "id": "086187bb",
        "outputId": "57c6175a-6582-451b-b77c-4cb997574d47"
      },
      "outputs": [
        {
          "output_type": "error",
          "ename": "TypeError",
          "evalue": "ignored",
          "traceback": [
            "\u001b[0;31m---------------------------------------------------------------------------\u001b[0m",
            "\u001b[0;31mTypeError\u001b[0m                                 Traceback (most recent call last)",
            "\u001b[0;32m<ipython-input-28-d021de3ef7e7>\u001b[0m in \u001b[0;36m<module>\u001b[0;34m\u001b[0m\n\u001b[0;32m----> 1\u001b[0;31m \u001b[0ma\u001b[0m\u001b[0;34m<\u001b[0m\u001b[0mb\u001b[0m\u001b[0;34m\u001b[0m\u001b[0;34m\u001b[0m\u001b[0m\n\u001b[0m",
            "\u001b[0;31mTypeError\u001b[0m: '<' not supported between instances of 'int' and 'complex'"
          ]
        }
      ],
      "source": [
        "a<b # int and complex are not supperted"
      ]
    },
    {
      "cell_type": "markdown",
      "id": "cef68bce",
      "metadata": {
        "id": "cef68bce"
      },
      "source": [
        "# comments"
      ]
    },
    {
      "cell_type": "code",
      "execution_count": 30,
      "id": "8276cad3",
      "metadata": {
        "id": "8276cad3"
      },
      "outputs": [],
      "source": [
        "# single line comment example "
      ]
    },
    {
      "cell_type": "code",
      "execution_count": 31,
      "id": "c8cb3ba0",
      "metadata": {
        "id": "c8cb3ba0"
      },
      "outputs": [],
      "source": [
        "#single\n",
        "#line\n",
        "#comment"
      ]
    },
    {
      "cell_type": "code",
      "execution_count": 32,
      "id": "3fdfd4ac",
      "metadata": {
        "colab": {
          "base_uri": "https://localhost:8080/",
          "height": 36
        },
        "id": "3fdfd4ac",
        "outputId": "09a34277-2171-4367-8776-b9abd2dc76c0"
      },
      "outputs": [
        {
          "output_type": "execute_result",
          "data": {
            "text/plain": [
              "' hai\\nhow are you\\nhow is session going on\\nf\\ndf\\nfd\\ng\\ndf\\ng\\nd\\nfd\\nf\\ndf\\nddf\\n'"
            ],
            "application/vnd.google.colaboratory.intrinsic+json": {
              "type": "string"
            }
          },
          "metadata": {},
          "execution_count": 32
        }
      ],
      "source": [
        "#multi line comment\n",
        "''' hai \n",
        "how are you\n",
        "how is session going on\n",
        "f\n",
        "df\n",
        "fd\n",
        "g\n",
        "df\n",
        "g\n",
        "d\n",
        "fd\n",
        "f\n",
        "df\n",
        "ddf\n",
        "'''"
      ]
    },
    {
      "cell_type": "markdown",
      "id": "06f42b59",
      "metadata": {
        "id": "06f42b59"
      },
      "source": [
        "# data structures"
      ]
    },
    {
      "cell_type": "markdown",
      "id": "fdc4edcd",
      "metadata": {
        "id": "fdc4edcd"
      },
      "source": [
        "##  lists"
      ]
    },
    {
      "cell_type": "code",
      "execution_count": 33,
      "id": "1988d4c6",
      "metadata": {
        "id": "1988d4c6"
      },
      "outputs": [],
      "source": [
        "numbers  = [1,5,1,8,525,8]"
      ]
    },
    {
      "cell_type": "code",
      "execution_count": 34,
      "id": "366d317d",
      "metadata": {
        "colab": {
          "base_uri": "https://localhost:8080/"
        },
        "id": "366d317d",
        "outputId": "7cf6c235-12a2-4e04-d80a-6d168af7aed4"
      },
      "outputs": [
        {
          "output_type": "execute_result",
          "data": {
            "text/plain": [
              "[1, 5, 1, 8, 525, 8]"
            ]
          },
          "metadata": {},
          "execution_count": 34
        }
      ],
      "source": [
        "numbers"
      ]
    },
    {
      "cell_type": "code",
      "execution_count": 35,
      "id": "7fd9ddd9",
      "metadata": {
        "colab": {
          "base_uri": "https://localhost:8080/"
        },
        "id": "7fd9ddd9",
        "outputId": "47c4de91-1cfa-401a-e952-3a01b56316b2"
      },
      "outputs": [
        {
          "output_type": "execute_result",
          "data": {
            "text/plain": [
              "list"
            ]
          },
          "metadata": {},
          "execution_count": 35
        }
      ],
      "source": [
        "type(numbers)"
      ]
    },
    {
      "cell_type": "code",
      "execution_count": 36,
      "id": "a6ef9d77",
      "metadata": {
        "id": "a6ef9d77"
      },
      "outputs": [],
      "source": [
        "fruits = ['grapes','apples', 'banana']"
      ]
    },
    {
      "cell_type": "code",
      "execution_count": 37,
      "id": "e1947c7a",
      "metadata": {
        "colab": {
          "base_uri": "https://localhost:8080/"
        },
        "id": "e1947c7a",
        "outputId": "33e8169b-d2f8-4093-b9b8-88c5c89669f6"
      },
      "outputs": [
        {
          "output_type": "execute_result",
          "data": {
            "text/plain": [
              "['grapes', 'apples', 'banana']"
            ]
          },
          "metadata": {},
          "execution_count": 37
        }
      ],
      "source": [
        "fruits"
      ]
    },
    {
      "cell_type": "code",
      "execution_count": 38,
      "id": "23ff359a",
      "metadata": {
        "colab": {
          "base_uri": "https://localhost:8080/"
        },
        "id": "23ff359a",
        "outputId": "613351de-1fc7-4ec4-f685-0c700f9dc324"
      },
      "outputs": [
        {
          "output_type": "execute_result",
          "data": {
            "text/plain": [
              "list"
            ]
          },
          "metadata": {},
          "execution_count": 38
        }
      ],
      "source": [
        "type(fruits)"
      ]
    },
    {
      "cell_type": "code",
      "execution_count": 47,
      "id": "6d252c9f",
      "metadata": {
        "colab": {
          "base_uri": "https://localhost:8080/"
        },
        "id": "6d252c9f",
        "outputId": "3f37e99a-3d83-4bb2-9216-fa58dc7e2d96"
      },
      "outputs": [
        {
          "output_type": "execute_result",
          "data": {
            "text/plain": [
              "['__add__',\n",
              " '__class__',\n",
              " '__contains__',\n",
              " '__delattr__',\n",
              " '__delitem__',\n",
              " '__dir__',\n",
              " '__doc__',\n",
              " '__eq__',\n",
              " '__format__',\n",
              " '__ge__',\n",
              " '__getattribute__',\n",
              " '__getitem__',\n",
              " '__gt__',\n",
              " '__hash__',\n",
              " '__iadd__',\n",
              " '__imul__',\n",
              " '__init__',\n",
              " '__init_subclass__',\n",
              " '__iter__',\n",
              " '__le__',\n",
              " '__len__',\n",
              " '__lt__',\n",
              " '__mul__',\n",
              " '__ne__',\n",
              " '__new__',\n",
              " '__reduce__',\n",
              " '__reduce_ex__',\n",
              " '__repr__',\n",
              " '__reversed__',\n",
              " '__rmul__',\n",
              " '__setattr__',\n",
              " '__setitem__',\n",
              " '__sizeof__',\n",
              " '__str__',\n",
              " '__subclasshook__',\n",
              " 'append',\n",
              " 'clear',\n",
              " 'copy',\n",
              " 'count',\n",
              " 'extend',\n",
              " 'index',\n",
              " 'insert',\n",
              " 'pop',\n",
              " 'remove',\n",
              " 'reverse',\n",
              " 'sort']"
            ]
          },
          "metadata": {},
          "execution_count": 47
        }
      ],
      "source": [
        "dir(fruits)"
      ]
    },
    {
      "cell_type": "code",
      "execution_count": 40,
      "id": "dbdc2982",
      "metadata": {
        "id": "dbdc2982"
      },
      "outputs": [],
      "source": [
        "fruits.append('straeberries')"
      ]
    },
    {
      "cell_type": "code",
      "execution_count": 41,
      "id": "125977ae",
      "metadata": {
        "colab": {
          "base_uri": "https://localhost:8080/"
        },
        "id": "125977ae",
        "outputId": "022ab0df-3329-4104-c074-beac5dd2acf1"
      },
      "outputs": [
        {
          "output_type": "execute_result",
          "data": {
            "text/plain": [
              "['grapes', 'apples', 'banana', 'straeberries']"
            ]
          },
          "metadata": {},
          "execution_count": 41
        }
      ],
      "source": [
        "fruits"
      ]
    },
    {
      "cell_type": "code",
      "execution_count": 42,
      "id": "ab5337a3",
      "metadata": {
        "id": "ab5337a3"
      },
      "outputs": [],
      "source": [
        "fruits.insert(1, 'oranges')"
      ]
    },
    {
      "cell_type": "code",
      "execution_count": 43,
      "id": "9168687a",
      "metadata": {
        "colab": {
          "base_uri": "https://localhost:8080/"
        },
        "id": "9168687a",
        "outputId": "bd306564-91b9-41d7-e3e7-9397062298ea"
      },
      "outputs": [
        {
          "output_type": "execute_result",
          "data": {
            "text/plain": [
              "['grapes', 'oranges', 'apples', 'banana', 'straeberries']"
            ]
          },
          "metadata": {},
          "execution_count": 43
        }
      ],
      "source": [
        "fruits"
      ]
    },
    {
      "cell_type": "code",
      "execution_count": 44,
      "id": "ac50b247",
      "metadata": {
        "colab": {
          "base_uri": "https://localhost:8080/",
          "height": 36
        },
        "id": "ac50b247",
        "outputId": "09a60611-3466-44c9-a3f8-a9be5faa146d"
      },
      "outputs": [
        {
          "output_type": "execute_result",
          "data": {
            "text/plain": [
              "'apples'"
            ],
            "application/vnd.google.colaboratory.intrinsic+json": {
              "type": "string"
            }
          },
          "metadata": {},
          "execution_count": 44
        }
      ],
      "source": [
        "fruits.pop(2)"
      ]
    },
    {
      "cell_type": "code",
      "execution_count": 45,
      "id": "0dbed090",
      "metadata": {
        "colab": {
          "base_uri": "https://localhost:8080/"
        },
        "id": "0dbed090",
        "outputId": "b07f64c1-f0b1-44ce-a4ab-0e06f952e141"
      },
      "outputs": [
        {
          "output_type": "execute_result",
          "data": {
            "text/plain": [
              "['grapes', 'oranges', 'banana', 'straeberries']"
            ]
          },
          "metadata": {},
          "execution_count": 45
        }
      ],
      "source": [
        "fruits"
      ]
    },
    {
      "cell_type": "code",
      "execution_count": 46,
      "id": "f8c79364",
      "metadata": {
        "colab": {
          "base_uri": "https://localhost:8080/"
        },
        "id": "f8c79364",
        "outputId": "e67e0588-36d2-4df6-d785-9731439dca3a"
      },
      "outputs": [
        {
          "output_type": "execute_result",
          "data": {
            "text/plain": [
              "['grapes', 'oranges']"
            ]
          },
          "metadata": {},
          "execution_count": 46
        }
      ],
      "source": [
        "fruits[0:2] #it will print till index 2 only"
      ]
    },
    {
      "cell_type": "markdown",
      "id": "027a2971",
      "metadata": {
        "id": "027a2971"
      },
      "source": [
        "# tuple"
      ]
    },
    {
      "cell_type": "code",
      "execution_count": 48,
      "id": "436388f4",
      "metadata": {
        "id": "436388f4"
      },
      "outputs": [],
      "source": [
        "numbers = (1,2,3,45)"
      ]
    },
    {
      "cell_type": "code",
      "execution_count": 49,
      "id": "1e37ed5e",
      "metadata": {
        "colab": {
          "base_uri": "https://localhost:8080/"
        },
        "id": "1e37ed5e",
        "outputId": "10541518-d41c-4cc3-c889-9ace8cf748a6"
      },
      "outputs": [
        {
          "output_type": "execute_result",
          "data": {
            "text/plain": [
              "(1, 2, 3, 45)"
            ]
          },
          "metadata": {},
          "execution_count": 49
        }
      ],
      "source": [
        "numbers"
      ]
    },
    {
      "cell_type": "code",
      "execution_count": 50,
      "id": "d7508fbf",
      "metadata": {
        "colab": {
          "base_uri": "https://localhost:8080/"
        },
        "id": "d7508fbf",
        "outputId": "405ca815-4700-4826-bff9-8814da2f3a60"
      },
      "outputs": [
        {
          "output_type": "execute_result",
          "data": {
            "text/plain": [
              "tuple"
            ]
          },
          "metadata": {},
          "execution_count": 50
        }
      ],
      "source": [
        "type(numbers)"
      ]
    },
    {
      "cell_type": "code",
      "execution_count": 51,
      "id": "d646694a",
      "metadata": {
        "colab": {
          "base_uri": "https://localhost:8080/"
        },
        "id": "d646694a",
        "outputId": "4fb7a2ab-745c-42d3-aa9f-997a86819baf"
      },
      "outputs": [
        {
          "output_type": "execute_result",
          "data": {
            "text/plain": [
              "['__add__',\n",
              " '__class__',\n",
              " '__contains__',\n",
              " '__delattr__',\n",
              " '__dir__',\n",
              " '__doc__',\n",
              " '__eq__',\n",
              " '__format__',\n",
              " '__ge__',\n",
              " '__getattribute__',\n",
              " '__getitem__',\n",
              " '__getnewargs__',\n",
              " '__gt__',\n",
              " '__hash__',\n",
              " '__init__',\n",
              " '__init_subclass__',\n",
              " '__iter__',\n",
              " '__le__',\n",
              " '__len__',\n",
              " '__lt__',\n",
              " '__mul__',\n",
              " '__ne__',\n",
              " '__new__',\n",
              " '__reduce__',\n",
              " '__reduce_ex__',\n",
              " '__repr__',\n",
              " '__rmul__',\n",
              " '__setattr__',\n",
              " '__sizeof__',\n",
              " '__str__',\n",
              " '__subclasshook__',\n",
              " 'count',\n",
              " 'index']"
            ]
          },
          "metadata": {},
          "execution_count": 51
        }
      ],
      "source": [
        "dir(numbers)"
      ]
    },
    {
      "cell_type": "markdown",
      "id": "d91351f9",
      "metadata": {
        "id": "d91351f9"
      },
      "source": [
        "# set"
      ]
    },
    {
      "cell_type": "code",
      "execution_count": 52,
      "id": "f36a8499",
      "metadata": {
        "id": "f36a8499"
      },
      "outputs": [],
      "source": [
        "numbers = {1,2,3,4,5657,534567}"
      ]
    },
    {
      "cell_type": "code",
      "execution_count": 53,
      "id": "956ebf23",
      "metadata": {
        "colab": {
          "base_uri": "https://localhost:8080/"
        },
        "id": "956ebf23",
        "outputId": "0326974d-e197-4cfa-e619-ea338fdc42ea"
      },
      "outputs": [
        {
          "output_type": "execute_result",
          "data": {
            "text/plain": [
              "{1, 2, 3, 4, 5657, 534567}"
            ]
          },
          "metadata": {},
          "execution_count": 53
        }
      ],
      "source": [
        "numbers"
      ]
    },
    {
      "cell_type": "code",
      "execution_count": 54,
      "id": "0f3de015",
      "metadata": {
        "colab": {
          "base_uri": "https://localhost:8080/"
        },
        "id": "0f3de015",
        "outputId": "99ab761a-c03a-4054-9503-8a42b54e314f"
      },
      "outputs": [
        {
          "output_type": "execute_result",
          "data": {
            "text/plain": [
              "set"
            ]
          },
          "metadata": {},
          "execution_count": 54
        }
      ],
      "source": [
        "type(numbers)"
      ]
    },
    {
      "cell_type": "code",
      "execution_count": 55,
      "id": "396a34fb",
      "metadata": {
        "colab": {
          "base_uri": "https://localhost:8080/"
        },
        "id": "396a34fb",
        "outputId": "a2c75e5d-7bec-4716-b856-51450a3ea8df"
      },
      "outputs": [
        {
          "output_type": "execute_result",
          "data": {
            "text/plain": [
              "['__and__',\n",
              " '__class__',\n",
              " '__contains__',\n",
              " '__delattr__',\n",
              " '__dir__',\n",
              " '__doc__',\n",
              " '__eq__',\n",
              " '__format__',\n",
              " '__ge__',\n",
              " '__getattribute__',\n",
              " '__gt__',\n",
              " '__hash__',\n",
              " '__iand__',\n",
              " '__init__',\n",
              " '__init_subclass__',\n",
              " '__ior__',\n",
              " '__isub__',\n",
              " '__iter__',\n",
              " '__ixor__',\n",
              " '__le__',\n",
              " '__len__',\n",
              " '__lt__',\n",
              " '__ne__',\n",
              " '__new__',\n",
              " '__or__',\n",
              " '__rand__',\n",
              " '__reduce__',\n",
              " '__reduce_ex__',\n",
              " '__repr__',\n",
              " '__ror__',\n",
              " '__rsub__',\n",
              " '__rxor__',\n",
              " '__setattr__',\n",
              " '__sizeof__',\n",
              " '__str__',\n",
              " '__sub__',\n",
              " '__subclasshook__',\n",
              " '__xor__',\n",
              " 'add',\n",
              " 'clear',\n",
              " 'copy',\n",
              " 'difference',\n",
              " 'difference_update',\n",
              " 'discard',\n",
              " 'intersection',\n",
              " 'intersection_update',\n",
              " 'isdisjoint',\n",
              " 'issubset',\n",
              " 'issuperset',\n",
              " 'pop',\n",
              " 'remove',\n",
              " 'symmetric_difference',\n",
              " 'symmetric_difference_update',\n",
              " 'union',\n",
              " 'update']"
            ]
          },
          "metadata": {},
          "execution_count": 55
        }
      ],
      "source": [
        "dir(numbers)"
      ]
    },
    {
      "cell_type": "markdown",
      "id": "804db316",
      "metadata": {
        "id": "804db316"
      },
      "source": [
        "## dictionaries"
      ]
    },
    {
      "cell_type": "code",
      "execution_count": 56,
      "id": "1bd0600b",
      "metadata": {
        "id": "1bd0600b"
      },
      "outputs": [],
      "source": [
        "d = {\n",
        "    'name': 'mahihdar',\n",
        "    \"roll no\": 32146541564154,\n",
        "    \"branch\": \"cse\"\n",
        "}"
      ]
    },
    {
      "cell_type": "code",
      "execution_count": 57,
      "id": "c79f36ad",
      "metadata": {
        "colab": {
          "base_uri": "https://localhost:8080/"
        },
        "id": "c79f36ad",
        "outputId": "d0e41616-98cd-45fa-a9f4-494c27fe1ec5"
      },
      "outputs": [
        {
          "output_type": "execute_result",
          "data": {
            "text/plain": [
              "{'name': 'mahihdar', 'roll no': 32146541564154, 'branch': 'cse'}"
            ]
          },
          "metadata": {},
          "execution_count": 57
        }
      ],
      "source": [
        "d"
      ]
    },
    {
      "cell_type": "code",
      "execution_count": 58,
      "id": "cbdaa90b",
      "metadata": {
        "colab": {
          "base_uri": "https://localhost:8080/"
        },
        "id": "cbdaa90b",
        "outputId": "85dfefd0-0a57-4a45-c345-946fe5f7989b"
      },
      "outputs": [
        {
          "output_type": "execute_result",
          "data": {
            "text/plain": [
              "dict"
            ]
          },
          "metadata": {},
          "execution_count": 58
        }
      ],
      "source": [
        "type(d)"
      ]
    },
    {
      "cell_type": "code",
      "execution_count": 59,
      "id": "e437841d",
      "metadata": {
        "colab": {
          "base_uri": "https://localhost:8080/"
        },
        "id": "e437841d",
        "outputId": "a3af26b1-af1c-4bb0-a9bd-14a50dd581e6"
      },
      "outputs": [
        {
          "output_type": "execute_result",
          "data": {
            "text/plain": [
              "['__class__',\n",
              " '__contains__',\n",
              " '__delattr__',\n",
              " '__delitem__',\n",
              " '__dir__',\n",
              " '__doc__',\n",
              " '__eq__',\n",
              " '__format__',\n",
              " '__ge__',\n",
              " '__getattribute__',\n",
              " '__getitem__',\n",
              " '__gt__',\n",
              " '__hash__',\n",
              " '__init__',\n",
              " '__init_subclass__',\n",
              " '__iter__',\n",
              " '__le__',\n",
              " '__len__',\n",
              " '__lt__',\n",
              " '__ne__',\n",
              " '__new__',\n",
              " '__reduce__',\n",
              " '__reduce_ex__',\n",
              " '__repr__',\n",
              " '__setattr__',\n",
              " '__setitem__',\n",
              " '__sizeof__',\n",
              " '__str__',\n",
              " '__subclasshook__',\n",
              " 'clear',\n",
              " 'copy',\n",
              " 'fromkeys',\n",
              " 'get',\n",
              " 'items',\n",
              " 'keys',\n",
              " 'pop',\n",
              " 'popitem',\n",
              " 'setdefault',\n",
              " 'update',\n",
              " 'values']"
            ]
          },
          "metadata": {},
          "execution_count": 59
        }
      ],
      "source": [
        "dir(d)"
      ]
    },
    {
      "cell_type": "code",
      "execution_count": 60,
      "id": "2645b5e5",
      "metadata": {
        "colab": {
          "base_uri": "https://localhost:8080/",
          "height": 0
        },
        "id": "2645b5e5",
        "outputId": "5111abe2-ff70-4d12-daec-eb9280894c19"
      },
      "outputs": [
        {
          "output_type": "execute_result",
          "data": {
            "text/plain": [
              "'mahihdar'"
            ],
            "application/vnd.google.colaboratory.intrinsic+json": {
              "type": "string"
            }
          },
          "metadata": {},
          "execution_count": 60
        }
      ],
      "source": [
        "d['name']"
      ]
    },
    {
      "cell_type": "markdown",
      "id": "6008584c",
      "metadata": {
        "id": "6008584c"
      },
      "source": [
        "## if statement"
      ]
    },
    {
      "cell_type": "code",
      "execution_count": null,
      "id": "bcdc357f",
      "metadata": {
        "id": "bcdc357f"
      },
      "outputs": [],
      "source": [
        "# given number is even or not\n",
        "number = int(input(\"enter the number \")) #type casting"
      ]
    },
    {
      "cell_type": "code",
      "execution_count": null,
      "id": "05ca685c",
      "metadata": {
        "id": "05ca685c"
      },
      "outputs": [],
      "source": [
        "type(number)"
      ]
    },
    {
      "cell_type": "code",
      "execution_count": null,
      "id": "8936966f",
      "metadata": {
        "id": "8936966f"
      },
      "outputs": [],
      "source": [
        "# / - quotient  % - reminder\n",
        "print(number)\n",
        "if number%2==0:\n",
        "    print(\"even number\")"
      ]
    },
    {
      "cell_type": "markdown",
      "id": "e5487b0e",
      "metadata": {
        "id": "e5487b0e"
      },
      "source": [
        "## if else statement"
      ]
    },
    {
      "cell_type": "code",
      "execution_count": null,
      "id": "7b7fbda8",
      "metadata": {
        "id": "7b7fbda8"
      },
      "outputs": [],
      "source": [
        "number = int(input(\"enter the number \"))\n",
        "if number%2==0:\n",
        "    print(\"even number\")                   #identation\n",
        "else:\n",
        "    print(\"odd number\")"
      ]
    },
    {
      "cell_type": "markdown",
      "id": "7fa94ea8",
      "metadata": {
        "id": "7fa94ea8"
      },
      "source": [
        "## elif statement"
      ]
    },
    {
      "cell_type": "code",
      "execution_count": null,
      "id": "8650fe3c",
      "metadata": {
        "id": "8650fe3c"
      },
      "outputs": [],
      "source": [
        "# finding the entered number is greater or equal or lesser than the other number\n",
        "a = int(input(\"enter the first number \"))\n",
        "b = int(input(\"enter the second number \"))\n",
        "if a<b:\n",
        "    print(\"first number is less than second number\")\n",
        "elif a==b:\n",
        "    print(\"both are equal\")\n",
        "else:\n",
        "    print(\"first number is greater than second number\")"
      ]
    },
    {
      "cell_type": "markdown",
      "id": "07b419e1",
      "metadata": {
        "id": "07b419e1"
      },
      "source": [
        "## for loop"
      ]
    },
    {
      "cell_type": "code",
      "execution_count": null,
      "id": "a2cc893d",
      "metadata": {
        "id": "a2cc893d"
      },
      "outputs": [],
      "source": [
        "# numbers from 1 to 10\n",
        "for i in range(1,11,2):\n",
        "    print(i)"
      ]
    },
    {
      "cell_type": "code",
      "execution_count": null,
      "id": "56e081b1",
      "metadata": {
        "scrolled": true,
        "id": "56e081b1"
      },
      "outputs": [],
      "source": [
        "for i in \"pythonfordatascience\":\n",
        "    print(i)"
      ]
    },
    {
      "cell_type": "code",
      "execution_count": null,
      "id": "d00d3e5a",
      "metadata": {
        "id": "d00d3e5a"
      },
      "outputs": [],
      "source": [
        "l = []\n",
        "for i in range(1,101):\n",
        "    l.append(i)            #listname.append(value)"
      ]
    },
    {
      "cell_type": "code",
      "execution_count": null,
      "id": "f4ed95b7",
      "metadata": {
        "scrolled": true,
        "id": "f4ed95b7"
      },
      "outputs": [],
      "source": [
        "l"
      ]
    },
    {
      "cell_type": "markdown",
      "id": "866f598d",
      "metadata": {
        "id": "866f598d"
      },
      "source": [
        "## while"
      ]
    },
    {
      "cell_type": "code",
      "execution_count": null,
      "id": "e0cfcce2",
      "metadata": {
        "scrolled": false,
        "id": "e0cfcce2"
      },
      "outputs": [],
      "source": [
        "i = 1\n",
        "while i<11:\n",
        "    print(i)\n",
        "    i = i+1 "
      ]
    },
    {
      "cell_type": "markdown",
      "id": "831f6967",
      "metadata": {
        "id": "831f6967"
      },
      "source": [
        "## while with break"
      ]
    },
    {
      "cell_type": "code",
      "execution_count": null,
      "id": "063cbd93",
      "metadata": {
        "id": "063cbd93"
      },
      "outputs": [],
      "source": [
        "# to come out of the loop \n",
        "i = 0\n",
        "str1 = \"pythonfordatascience\"\n",
        "while i<len(str1):\n",
        "    if str1[i]=='d':\n",
        "        break\n",
        "    print(str1[i])\n",
        "    i+=1                #i = i+1"
      ]
    },
    {
      "cell_type": "markdown",
      "id": "e173d18e",
      "metadata": {
        "id": "e173d18e"
      },
      "source": [
        "## while with continue"
      ]
    },
    {
      "cell_type": "code",
      "execution_count": null,
      "id": "20fd1702",
      "metadata": {
        "id": "20fd1702"
      },
      "outputs": [],
      "source": [
        "# to no excute some part, and should execute theb remaining\n",
        "i = 0\n",
        "str1 = \"pythonfordatascience\"\n",
        "while i<len(str1):\n",
        "    if str1[i]=='d':\n",
        "        i+=1\n",
        "        continue\n",
        "    print(str1[i])\n",
        "    i+=1                #i = i+1"
      ]
    },
    {
      "cell_type": "markdown",
      "id": "39dc4074",
      "metadata": {
        "id": "39dc4074"
      },
      "source": [
        "## function"
      ]
    },
    {
      "cell_type": "code",
      "execution_count": null,
      "id": "0c6fafd8",
      "metadata": {
        "id": "0c6fafd8"
      },
      "outputs": [],
      "source": [
        "def add(a,b):\n",
        "    c = a-b\n",
        "    return c\n",
        "num1 = int(input(\"enter the first value \"))\n",
        "num2 = int(input(\"enter the second value \"))\n",
        "add(num1,num2)"
      ]
    },
    {
      "cell_type": "code",
      "execution_count": null,
      "id": "75e6dc44",
      "metadata": {
        "id": "75e6dc44"
      },
      "outputs": [],
      "source": [
        "add(50,100)"
      ]
    },
    {
      "cell_type": "code",
      "execution_count": null,
      "id": "0fb7b886",
      "metadata": {
        "id": "0fb7b886"
      },
      "outputs": [],
      "source": []
    }
  ],
  "metadata": {
    "kernelspec": {
      "display_name": "Python 3 (ipykernel)",
      "language": "python",
      "name": "python3"
    },
    "language_info": {
      "codemirror_mode": {
        "name": "ipython",
        "version": 3
      },
      "file_extension": ".py",
      "mimetype": "text/x-python",
      "name": "python",
      "nbconvert_exporter": "python",
      "pygments_lexer": "ipython3",
      "version": "3.9.12"
    },
    "colab": {
      "provenance": []
    }
  },
  "nbformat": 4,
  "nbformat_minor": 5
}